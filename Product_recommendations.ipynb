{
 "cells": [
  {
   "cell_type": "code",
   "execution_count": 1,
   "id": "febdafef-2213-4a68-82ad-b54f1c0faa0b",
   "metadata": {},
   "outputs": [],
   "source": [
    "import numpy as np \n",
    "import pandas as pd \n",
    "from statsmodels import api as sm\n",
    "import pylab as py\n",
    "import matplotlib.pyplot as plt\n",
    "import matplotlib.dates as dates\n",
    "from datetime import datetime\n",
    "import matplotlib.ticker as ticker\n",
    "import matplotlib.cm as cm\n",
    "import matplotlib as mpl\n",
    "from matplotlib.gridspec import GridSpec\n",
    "import seaborn as sns\n",
    "import squarify\n",
    "from scipy.stats import kstest,norm\n",
    "from scipy.stats import norm\n",
    "from sklearn.preprocessing import LabelEncoder\n",
    "from sklearn.preprocessing import MinMaxScaler\n",
    "from sklearn.model_selection import train_test_split\n",
    "from xgboost import plot_importance\n",
    "from sklearn.utils import resample\n",
    "from sklearn import metrics\n",
    "from scipy.stats import chi2_contingency"
   ]
  },
  {
   "cell_type": "code",
   "execution_count": 147,
   "id": "840fb62f-fa31-4439-b6f3-e30632ac32c3",
   "metadata": {},
   "outputs": [],
   "source": [
    "df = pd.read_csv(r'C:\\Users\\ranu1\\Downloads\\E-comercedataset\\2019-Nov.csv')"
   ]
  },
  {
   "cell_type": "code",
   "execution_count": 148,
   "id": "c7a35411-9481-4632-b032-2ce83d09c950",
   "metadata": {},
   "outputs": [
    {
     "data": {
      "text/html": [
       "<div>\n",
       "<style scoped>\n",
       "    .dataframe tbody tr th:only-of-type {\n",
       "        vertical-align: middle;\n",
       "    }\n",
       "\n",
       "    .dataframe tbody tr th {\n",
       "        vertical-align: top;\n",
       "    }\n",
       "\n",
       "    .dataframe thead th {\n",
       "        text-align: right;\n",
       "    }\n",
       "</style>\n",
       "<table border=\"1\" class=\"dataframe\">\n",
       "  <thead>\n",
       "    <tr style=\"text-align: right;\">\n",
       "      <th></th>\n",
       "      <th>event_time</th>\n",
       "      <th>event_type</th>\n",
       "      <th>product_id</th>\n",
       "      <th>category_id</th>\n",
       "      <th>category_code</th>\n",
       "      <th>brand</th>\n",
       "      <th>price</th>\n",
       "      <th>user_id</th>\n",
       "      <th>user_session</th>\n",
       "    </tr>\n",
       "  </thead>\n",
       "  <tbody>\n",
       "    <tr>\n",
       "      <th>0</th>\n",
       "      <td>2019-11-01 00:00:00 UTC</td>\n",
       "      <td>view</td>\n",
       "      <td>1003461</td>\n",
       "      <td>2053013555631882655</td>\n",
       "      <td>electronics.smartphone</td>\n",
       "      <td>xiaomi</td>\n",
       "      <td>489.07</td>\n",
       "      <td>520088904</td>\n",
       "      <td>4d3b30da-a5e4-49df-b1a8-ba5943f1dd33</td>\n",
       "    </tr>\n",
       "    <tr>\n",
       "      <th>1</th>\n",
       "      <td>2019-11-01 00:00:00 UTC</td>\n",
       "      <td>view</td>\n",
       "      <td>5000088</td>\n",
       "      <td>2053013566100866035</td>\n",
       "      <td>appliances.sewing_machine</td>\n",
       "      <td>janome</td>\n",
       "      <td>293.65</td>\n",
       "      <td>530496790</td>\n",
       "      <td>8e5f4f83-366c-4f70-860e-ca7417414283</td>\n",
       "    </tr>\n",
       "    <tr>\n",
       "      <th>2</th>\n",
       "      <td>2019-11-01 00:00:01 UTC</td>\n",
       "      <td>view</td>\n",
       "      <td>17302664</td>\n",
       "      <td>2053013553853497655</td>\n",
       "      <td>NaN</td>\n",
       "      <td>creed</td>\n",
       "      <td>28.31</td>\n",
       "      <td>561587266</td>\n",
       "      <td>755422e7-9040-477b-9bd2-6a6e8fd97387</td>\n",
       "    </tr>\n",
       "    <tr>\n",
       "      <th>3</th>\n",
       "      <td>2019-11-01 00:00:01 UTC</td>\n",
       "      <td>view</td>\n",
       "      <td>3601530</td>\n",
       "      <td>2053013563810775923</td>\n",
       "      <td>appliances.kitchen.washer</td>\n",
       "      <td>lg</td>\n",
       "      <td>712.87</td>\n",
       "      <td>518085591</td>\n",
       "      <td>3bfb58cd-7892-48cc-8020-2f17e6de6e7f</td>\n",
       "    </tr>\n",
       "    <tr>\n",
       "      <th>4</th>\n",
       "      <td>2019-11-01 00:00:01 UTC</td>\n",
       "      <td>view</td>\n",
       "      <td>1004775</td>\n",
       "      <td>2053013555631882655</td>\n",
       "      <td>electronics.smartphone</td>\n",
       "      <td>xiaomi</td>\n",
       "      <td>183.27</td>\n",
       "      <td>558856683</td>\n",
       "      <td>313628f1-68b8-460d-84f6-cec7a8796ef2</td>\n",
       "    </tr>\n",
       "    <tr>\n",
       "      <th>5</th>\n",
       "      <td>2019-11-01 00:00:01 UTC</td>\n",
       "      <td>view</td>\n",
       "      <td>1306894</td>\n",
       "      <td>2053013558920217191</td>\n",
       "      <td>computers.notebook</td>\n",
       "      <td>hp</td>\n",
       "      <td>360.09</td>\n",
       "      <td>520772685</td>\n",
       "      <td>816a59f3-f5ae-4ccd-9b23-82aa8c23d33c</td>\n",
       "    </tr>\n",
       "    <tr>\n",
       "      <th>6</th>\n",
       "      <td>2019-11-01 00:00:01 UTC</td>\n",
       "      <td>view</td>\n",
       "      <td>1306421</td>\n",
       "      <td>2053013558920217191</td>\n",
       "      <td>computers.notebook</td>\n",
       "      <td>hp</td>\n",
       "      <td>514.56</td>\n",
       "      <td>514028527</td>\n",
       "      <td>df8184cc-3694-4549-8c8c-6b5171877376</td>\n",
       "    </tr>\n",
       "    <tr>\n",
       "      <th>7</th>\n",
       "      <td>2019-11-01 00:00:02 UTC</td>\n",
       "      <td>view</td>\n",
       "      <td>15900065</td>\n",
       "      <td>2053013558190408249</td>\n",
       "      <td>NaN</td>\n",
       "      <td>rondell</td>\n",
       "      <td>30.86</td>\n",
       "      <td>518574284</td>\n",
       "      <td>5e6ef132-4d7c-4730-8c7f-85aa4082588f</td>\n",
       "    </tr>\n",
       "    <tr>\n",
       "      <th>8</th>\n",
       "      <td>2019-11-01 00:00:02 UTC</td>\n",
       "      <td>view</td>\n",
       "      <td>12708937</td>\n",
       "      <td>2053013553559896355</td>\n",
       "      <td>NaN</td>\n",
       "      <td>michelin</td>\n",
       "      <td>72.72</td>\n",
       "      <td>532364121</td>\n",
       "      <td>0a899268-31eb-46de-898d-09b2da950b24</td>\n",
       "    </tr>\n",
       "    <tr>\n",
       "      <th>9</th>\n",
       "      <td>2019-11-01 00:00:02 UTC</td>\n",
       "      <td>view</td>\n",
       "      <td>1004258</td>\n",
       "      <td>2053013555631882655</td>\n",
       "      <td>electronics.smartphone</td>\n",
       "      <td>apple</td>\n",
       "      <td>732.07</td>\n",
       "      <td>532647354</td>\n",
       "      <td>d2d3d2c6-631d-489e-9fb5-06f340b85be0</td>\n",
       "    </tr>\n",
       "  </tbody>\n",
       "</table>\n",
       "</div>"
      ],
      "text/plain": [
       "                event_time event_type  product_id          category_id  \\\n",
       "0  2019-11-01 00:00:00 UTC       view     1003461  2053013555631882655   \n",
       "1  2019-11-01 00:00:00 UTC       view     5000088  2053013566100866035   \n",
       "2  2019-11-01 00:00:01 UTC       view    17302664  2053013553853497655   \n",
       "3  2019-11-01 00:00:01 UTC       view     3601530  2053013563810775923   \n",
       "4  2019-11-01 00:00:01 UTC       view     1004775  2053013555631882655   \n",
       "5  2019-11-01 00:00:01 UTC       view     1306894  2053013558920217191   \n",
       "6  2019-11-01 00:00:01 UTC       view     1306421  2053013558920217191   \n",
       "7  2019-11-01 00:00:02 UTC       view    15900065  2053013558190408249   \n",
       "8  2019-11-01 00:00:02 UTC       view    12708937  2053013553559896355   \n",
       "9  2019-11-01 00:00:02 UTC       view     1004258  2053013555631882655   \n",
       "\n",
       "               category_code     brand   price    user_id  \\\n",
       "0     electronics.smartphone    xiaomi  489.07  520088904   \n",
       "1  appliances.sewing_machine    janome  293.65  530496790   \n",
       "2                        NaN     creed   28.31  561587266   \n",
       "3  appliances.kitchen.washer        lg  712.87  518085591   \n",
       "4     electronics.smartphone    xiaomi  183.27  558856683   \n",
       "5         computers.notebook        hp  360.09  520772685   \n",
       "6         computers.notebook        hp  514.56  514028527   \n",
       "7                        NaN   rondell   30.86  518574284   \n",
       "8                        NaN  michelin   72.72  532364121   \n",
       "9     electronics.smartphone     apple  732.07  532647354   \n",
       "\n",
       "                           user_session  \n",
       "0  4d3b30da-a5e4-49df-b1a8-ba5943f1dd33  \n",
       "1  8e5f4f83-366c-4f70-860e-ca7417414283  \n",
       "2  755422e7-9040-477b-9bd2-6a6e8fd97387  \n",
       "3  3bfb58cd-7892-48cc-8020-2f17e6de6e7f  \n",
       "4  313628f1-68b8-460d-84f6-cec7a8796ef2  \n",
       "5  816a59f3-f5ae-4ccd-9b23-82aa8c23d33c  \n",
       "6  df8184cc-3694-4549-8c8c-6b5171877376  \n",
       "7  5e6ef132-4d7c-4730-8c7f-85aa4082588f  \n",
       "8  0a899268-31eb-46de-898d-09b2da950b24  \n",
       "9  d2d3d2c6-631d-489e-9fb5-06f340b85be0  "
      ]
     },
     "execution_count": 148,
     "metadata": {},
     "output_type": "execute_result"
    }
   ],
   "source": [
    "df.head(10)"
   ]
  },
  {
   "cell_type": "code",
   "execution_count": 149,
   "id": "df9b9736-35f0-44cf-b65d-9f11e53b8c25",
   "metadata": {},
   "outputs": [
    {
     "data": {
      "text/plain": [
       "event_time       67501979\n",
       "event_type       67501979\n",
       "product_id       67501979\n",
       "category_id      67501979\n",
       "category_code    45603808\n",
       "brand            58277901\n",
       "price            67501979\n",
       "user_id          67501979\n",
       "user_session     67501969\n",
       "dtype: int64"
      ]
     },
     "execution_count": 149,
     "metadata": {},
     "output_type": "execute_result"
    }
   ],
   "source": [
    "df.count()"
   ]
  },
  {
   "cell_type": "code",
   "execution_count": 150,
   "id": "4bb59ab9-d1d3-4448-a4fc-692c6b9f0650",
   "metadata": {},
   "outputs": [
    {
     "data": {
      "text/plain": [
       "event_time              0\n",
       "event_type              0\n",
       "product_id              0\n",
       "category_id             0\n",
       "category_code    21898171\n",
       "brand             9224078\n",
       "price                   0\n",
       "user_id                 0\n",
       "user_session           10\n",
       "dtype: int64"
      ]
     },
     "execution_count": 150,
     "metadata": {},
     "output_type": "execute_result"
    }
   ],
   "source": [
    "df.isnull().sum()"
   ]
  },
  {
   "cell_type": "code",
   "execution_count": 151,
   "id": "3ffb3497-28e2-40ff-bda9-f031d4e4d9bb",
   "metadata": {},
   "outputs": [
    {
     "name": "stdout",
     "output_type": "stream",
     "text": [
      "category_code  21898171\n",
      "brand  9224078\n",
      "Both  5709840\n"
     ]
    }
   ],
   "source": [
    "print(\"category_code \",df['category_code'].isnull().sum())\n",
    "print(\"brand \",df['brand'].isnull().sum())\n",
    "print(\"Both \",(df['category_code'].isnull() & df['brand'].isnull()).sum())"
   ]
  },
  {
   "cell_type": "code",
   "execution_count": 152,
   "id": "8c27852c-3d11-4444-8c3c-0b94c14c3728",
   "metadata": {},
   "outputs": [],
   "source": [
    "df = df.dropna()"
   ]
  },
  {
   "cell_type": "code",
   "execution_count": 153,
   "id": "8498cad2-c09f-40fc-8ff0-03a6cb59af73",
   "metadata": {},
   "outputs": [
    {
     "data": {
      "text/plain": [
       "(42089564, 9)"
      ]
     },
     "execution_count": 153,
     "metadata": {},
     "output_type": "execute_result"
    }
   ],
   "source": [
    "df.shape"
   ]
  },
  {
   "cell_type": "code",
   "execution_count": 154,
   "id": "7336c771-0665-4e89-833c-542b44172bfc",
   "metadata": {},
   "outputs": [
    {
     "data": {
      "text/plain": [
       "event_time       0\n",
       "event_type       0\n",
       "product_id       0\n",
       "category_id      0\n",
       "category_code    0\n",
       "brand            0\n",
       "price            0\n",
       "user_id          0\n",
       "user_session     0\n",
       "dtype: int64"
      ]
     },
     "execution_count": 154,
     "metadata": {},
     "output_type": "execute_result"
    }
   ],
   "source": [
    "df.isnull().sum()"
   ]
  },
  {
   "cell_type": "code",
   "execution_count": 155,
   "id": "c41e18cc-b5df-4370-a4b3-ea3f0afdf0f5",
   "metadata": {},
   "outputs": [
    {
     "name": "stdout",
     "output_type": "stream",
     "text": [
      "Total number of users:  2862935\n",
      "Total number of products:  69773\n",
      "Total number of categories:  270\n",
      "Total number of taxonomies:  129\n",
      "Total number of brands:  1987\n"
     ]
    }
   ],
   "source": [
    "num_users = df['user_id'].nunique()\n",
    "num_products = df['product_id'].nunique()\n",
    "num_categories = df['category_id'].nunique()\n",
    "num_taxonomies = df['category_code'].nunique()\n",
    "num_brands = df['brand'].nunique()\n",
    "print('Total number of users: ',num_users)\n",
    "print('Total number of products: ', num_products)\n",
    "print('Total number of categories: ', num_categories)\n",
    "print('Total number of taxonomies: ', num_taxonomies)\n",
    "print('Total number of brands: ', num_brands)"
   ]
  },
  {
   "cell_type": "code",
   "execution_count": 156,
   "id": "bd10a407-6475-402d-a67a-ea5750b23ade",
   "metadata": {},
   "outputs": [],
   "source": [
    "df = df[['category_code','user_id']]"
   ]
  },
  {
   "cell_type": "code",
   "execution_count": 157,
   "id": "2f094a63-1e2a-4b92-84e1-118005e3719f",
   "metadata": {},
   "outputs": [
    {
     "data": {
      "text/plain": [
       "(42089564, 2)"
      ]
     },
     "execution_count": 157,
     "metadata": {},
     "output_type": "execute_result"
    }
   ],
   "source": [
    "df.shape"
   ]
  },
  {
   "cell_type": "code",
   "execution_count": 158,
   "id": "e876c64d-b9e1-476b-a495-5b13224f637c",
   "metadata": {},
   "outputs": [
    {
     "data": {
      "text/html": [
       "<div>\n",
       "<style scoped>\n",
       "    .dataframe tbody tr th:only-of-type {\n",
       "        vertical-align: middle;\n",
       "    }\n",
       "\n",
       "    .dataframe tbody tr th {\n",
       "        vertical-align: top;\n",
       "    }\n",
       "\n",
       "    .dataframe thead th {\n",
       "        text-align: right;\n",
       "    }\n",
       "</style>\n",
       "<table border=\"1\" class=\"dataframe\">\n",
       "  <thead>\n",
       "    <tr style=\"text-align: right;\">\n",
       "      <th></th>\n",
       "      <th>category_code</th>\n",
       "      <th>user_id</th>\n",
       "    </tr>\n",
       "  </thead>\n",
       "  <tbody>\n",
       "    <tr>\n",
       "      <th>0</th>\n",
       "      <td>electronics.smartphone</td>\n",
       "      <td>520088904</td>\n",
       "    </tr>\n",
       "    <tr>\n",
       "      <th>1</th>\n",
       "      <td>appliances.sewing_machine</td>\n",
       "      <td>530496790</td>\n",
       "    </tr>\n",
       "    <tr>\n",
       "      <th>3</th>\n",
       "      <td>appliances.kitchen.washer</td>\n",
       "      <td>518085591</td>\n",
       "    </tr>\n",
       "    <tr>\n",
       "      <th>4</th>\n",
       "      <td>electronics.smartphone</td>\n",
       "      <td>558856683</td>\n",
       "    </tr>\n",
       "    <tr>\n",
       "      <th>5</th>\n",
       "      <td>computers.notebook</td>\n",
       "      <td>520772685</td>\n",
       "    </tr>\n",
       "    <tr>\n",
       "      <th>...</th>\n",
       "      <td>...</td>\n",
       "      <td>...</td>\n",
       "    </tr>\n",
       "    <tr>\n",
       "      <th>67501972</th>\n",
       "      <td>construction.tools.drill</td>\n",
       "      <td>562661595</td>\n",
       "    </tr>\n",
       "    <tr>\n",
       "      <th>67501975</th>\n",
       "      <td>apparel.shoes</td>\n",
       "      <td>545223467</td>\n",
       "    </tr>\n",
       "    <tr>\n",
       "      <th>67501976</th>\n",
       "      <td>electronics.smartphone</td>\n",
       "      <td>557794415</td>\n",
       "    </tr>\n",
       "    <tr>\n",
       "      <th>67501977</th>\n",
       "      <td>appliances.kitchen.refrigerators</td>\n",
       "      <td>531607492</td>\n",
       "    </tr>\n",
       "    <tr>\n",
       "      <th>67501978</th>\n",
       "      <td>electronics.smartphone</td>\n",
       "      <td>579969851</td>\n",
       "    </tr>\n",
       "  </tbody>\n",
       "</table>\n",
       "<p>42089564 rows × 2 columns</p>\n",
       "</div>"
      ],
      "text/plain": [
       "                             category_code    user_id\n",
       "0                   electronics.smartphone  520088904\n",
       "1                appliances.sewing_machine  530496790\n",
       "3                appliances.kitchen.washer  518085591\n",
       "4                   electronics.smartphone  558856683\n",
       "5                       computers.notebook  520772685\n",
       "...                                    ...        ...\n",
       "67501972          construction.tools.drill  562661595\n",
       "67501975                     apparel.shoes  545223467\n",
       "67501976            electronics.smartphone  557794415\n",
       "67501977  appliances.kitchen.refrigerators  531607492\n",
       "67501978            electronics.smartphone  579969851\n",
       "\n",
       "[42089564 rows x 2 columns]"
      ]
     },
     "execution_count": 158,
     "metadata": {},
     "output_type": "execute_result"
    }
   ],
   "source": [
    "df"
   ]
  },
  {
   "cell_type": "code",
   "execution_count": 17,
   "id": "41aadbb5-a6e8-48f6-8912-32a2ded4da36",
   "metadata": {},
   "outputs": [
    {
     "name": "stdout",
     "output_type": "stream",
     "text": [
      "user_id\n",
      "29515875         [furniture.bedroom.bed, electronics.video.tv]\n",
      "31198833     [electronics.smartphone, appliances.kitchen.gr...\n",
      "34916060                            [appliances.kitchen.grill]\n",
      "41798457                              [electronics.smartphone]\n",
      "62336140                                       [apparel.shoes]\n",
      "                                   ...                        \n",
      "579969525                             [electronics.smartphone]\n",
      "579969533                               [electronics.video.tv]\n",
      "579969570                             [electronics.smartphone]\n",
      "579969767                        [electronics.audio.headphone]\n",
      "579969851                             [electronics.smartphone]\n",
      "Name: category_code, Length: 2862935, dtype: object\n"
     ]
    }
   ],
   "source": [
    "unique_items_per_user = df.groupby('user_id')['category_code'].apply(lambda x: x.unique())\n",
    "print(unique_items_per_user)"
   ]
  },
  {
   "cell_type": "code",
   "execution_count": 21,
   "id": "8adbfc20-173e-4f2e-aa18-494ce0423f77",
   "metadata": {},
   "outputs": [
    {
     "data": {
      "text/plain": [
       "pandas.core.series.Series"
      ]
     },
     "execution_count": 21,
     "metadata": {},
     "output_type": "execute_result"
    }
   ],
   "source": [
    "type(unique_items_per_user)"
   ]
  },
  {
   "cell_type": "code",
   "execution_count": 22,
   "id": "df09dc46-7c8c-4ef1-9d63-c0dda98a44f7",
   "metadata": {},
   "outputs": [
    {
     "name": "stdout",
     "output_type": "stream",
     "text": [
      "           user_id                                      category_code\n",
      "0         29515875      [furniture.bedroom.bed, electronics.video.tv]\n",
      "1         31198833  [electronics.smartphone, appliances.kitchen.gr...\n",
      "2         34916060                         [appliances.kitchen.grill]\n",
      "3         41798457                           [electronics.smartphone]\n",
      "4         62336140                                    [apparel.shoes]\n",
      "...            ...                                                ...\n",
      "2862930  579969525                           [electronics.smartphone]\n",
      "2862931  579969533                             [electronics.video.tv]\n",
      "2862932  579969570                           [electronics.smartphone]\n",
      "2862933  579969767                      [electronics.audio.headphone]\n",
      "2862934  579969851                           [electronics.smartphone]\n",
      "\n",
      "[2862935 rows x 2 columns]\n"
     ]
    }
   ],
   "source": [
    "unique_items_df = unique_items_per_user.reset_index()\n",
    "print(unique_items_df)"
   ]
  },
  {
   "cell_type": "code",
   "execution_count": 53,
   "id": "63e0695b-4854-43a9-9e5c-d307bf367e46",
   "metadata": {},
   "outputs": [
    {
     "data": {
      "text/plain": [
       "(2862935,)"
      ]
     },
     "execution_count": 53,
     "metadata": {},
     "output_type": "execute_result"
    }
   ],
   "source": [
    "unique_items_df['category_code']"
   ]
  },
  {
   "cell_type": "code",
   "execution_count": 23,
   "id": "6b1c8579-1b0a-4f13-8eb5-1dbdbf1994f3",
   "metadata": {},
   "outputs": [
    {
     "data": {
      "text/html": [
       "<div>\n",
       "<style scoped>\n",
       "    .dataframe tbody tr th:only-of-type {\n",
       "        vertical-align: middle;\n",
       "    }\n",
       "\n",
       "    .dataframe tbody tr th {\n",
       "        vertical-align: top;\n",
       "    }\n",
       "\n",
       "    .dataframe thead th {\n",
       "        text-align: right;\n",
       "    }\n",
       "</style>\n",
       "<table border=\"1\" class=\"dataframe\">\n",
       "  <thead>\n",
       "    <tr style=\"text-align: right;\">\n",
       "      <th></th>\n",
       "      <th>user_id</th>\n",
       "      <th>category_code</th>\n",
       "    </tr>\n",
       "  </thead>\n",
       "  <tbody>\n",
       "    <tr>\n",
       "      <th>0</th>\n",
       "      <td>29515875</td>\n",
       "      <td>[furniture.bedroom.bed, electronics.video.tv]</td>\n",
       "    </tr>\n",
       "    <tr>\n",
       "      <th>1</th>\n",
       "      <td>31198833</td>\n",
       "      <td>[electronics.smartphone, appliances.kitchen.gr...</td>\n",
       "    </tr>\n",
       "    <tr>\n",
       "      <th>2</th>\n",
       "      <td>34916060</td>\n",
       "      <td>[appliances.kitchen.grill]</td>\n",
       "    </tr>\n",
       "    <tr>\n",
       "      <th>3</th>\n",
       "      <td>41798457</td>\n",
       "      <td>[electronics.smartphone]</td>\n",
       "    </tr>\n",
       "    <tr>\n",
       "      <th>4</th>\n",
       "      <td>62336140</td>\n",
       "      <td>[apparel.shoes]</td>\n",
       "    </tr>\n",
       "  </tbody>\n",
       "</table>\n",
       "</div>"
      ],
      "text/plain": [
       "    user_id                                      category_code\n",
       "0  29515875      [furniture.bedroom.bed, electronics.video.tv]\n",
       "1  31198833  [electronics.smartphone, appliances.kitchen.gr...\n",
       "2  34916060                         [appliances.kitchen.grill]\n",
       "3  41798457                           [electronics.smartphone]\n",
       "4  62336140                                    [apparel.shoes]"
      ]
     },
     "execution_count": 23,
     "metadata": {},
     "output_type": "execute_result"
    }
   ],
   "source": [
    "unique_items_df.head()"
   ]
  },
  {
   "cell_type": "code",
   "execution_count": 28,
   "id": "ae44f469-a787-4451-8f0c-68a1db7bf272",
   "metadata": {},
   "outputs": [
    {
     "name": "stdout",
     "output_type": "stream",
     "text": [
      "           user_id  accessories.bag  accessories.umbrella  accessories.wallet  \\\n",
      "0         29515875                0                     0                   0   \n",
      "1         31198833                0                     0                   0   \n",
      "2         34916060                0                     0                   0   \n",
      "3         41798457                0                     0                   0   \n",
      "4         62336140                0                     0                   0   \n",
      "...            ...              ...                   ...                 ...   \n",
      "2862930  579969525                0                     0                   0   \n",
      "2862931  579969533                0                     0                   0   \n",
      "2862932  579969570                0                     0                   0   \n",
      "2862933  579969767                0                     0                   0   \n",
      "2862934  579969851                0                     0                   0   \n",
      "\n",
      "         apparel.belt  apparel.costume  apparel.dress  apparel.glove  \\\n",
      "0                   0                0              0              0   \n",
      "1                   0                0              0              0   \n",
      "2                   0                0              0              0   \n",
      "3                   0                0              0              0   \n",
      "4                   0                0              0              0   \n",
      "...               ...              ...            ...            ...   \n",
      "2862930             0                0              0              0   \n",
      "2862931             0                0              0              0   \n",
      "2862932             0                0              0              0   \n",
      "2862933             0                0              0              0   \n",
      "2862934             0                0              0              0   \n",
      "\n",
      "         apparel.jacket  apparel.jeans  ...  kids.skates  kids.swing  \\\n",
      "0                     0              0  ...            0           0   \n",
      "1                     0              0  ...            0           0   \n",
      "2                     0              0  ...            0           0   \n",
      "3                     0              0  ...            0           0   \n",
      "4                     0              0  ...            0           0   \n",
      "...                 ...            ...  ...          ...         ...   \n",
      "2862930               0              0  ...            0           0   \n",
      "2862931               0              0  ...            0           0   \n",
      "2862932               0              0  ...            0           0   \n",
      "2862933               0              0  ...            0           0   \n",
      "2862934               0              0  ...            0           0   \n",
      "\n",
      "         kids.toys  medicine.tools.tonometer  sport.bicycle  sport.ski  \\\n",
      "0                0                         0              0          0   \n",
      "1                0                         0              0          0   \n",
      "2                0                         0              0          0   \n",
      "3                0                         0              0          0   \n",
      "4                0                         0              0          0   \n",
      "...            ...                       ...            ...        ...   \n",
      "2862930          0                         0              0          0   \n",
      "2862931          0                         0              0          0   \n",
      "2862932          0                         0              0          0   \n",
      "2862933          0                         0              0          0   \n",
      "2862934          0                         0              0          0   \n",
      "\n",
      "         sport.snowboard  sport.tennis  sport.trainer  stationery.cartrige  \n",
      "0                      0             0              0                    0  \n",
      "1                      0             0              0                    0  \n",
      "2                      0             0              0                    0  \n",
      "3                      0             0              0                    0  \n",
      "4                      0             0              0                    0  \n",
      "...                  ...           ...            ...                  ...  \n",
      "2862930                0             0              0                    0  \n",
      "2862931                0             0              0                    0  \n",
      "2862932                0             0              0                    0  \n",
      "2862933                0             0              0                    0  \n",
      "2862934                0             0              0                    0  \n",
      "\n",
      "[2862935 rows x 130 columns]\n"
     ]
    }
   ],
   "source": [
    "import pandas as pd\n",
    "from sklearn.preprocessing import MultiLabelBinarizer\n",
    "\n",
    "# Example DataFrame\n",
    "data = unique_items_df\n",
    "\n",
    "df = pd.DataFrame(data)\n",
    "\n",
    "# Initialize MultiLabelBinarizer\n",
    "mlb = MultiLabelBinarizer()\n",
    "\n",
    "# Apply MultiLabelBinarizer to the category_code column\n",
    "category_encoded = mlb.fit_transform(df['category_code'])\n",
    "\n",
    "# Create a new DataFrame with the encoded category columns\n",
    "df_encoded = pd.DataFrame(category_encoded, columns=mlb.classes_)\n",
    "\n",
    "# Concatenate the original DataFrame with the encoded categories\n",
    "df_final = pd.concat([df['user_id'], df_encoded], axis=1)\n",
    "\n",
    "# Display the final DataFrame\n",
    "print(df_final)\n"
   ]
  },
  {
   "cell_type": "code",
   "execution_count": 30,
   "id": "428f4bed-75a8-483c-a9a7-25f274b1c046",
   "metadata": {},
   "outputs": [
    {
     "data": {
      "text/plain": [
       "pandas.core.frame.DataFrame"
      ]
     },
     "execution_count": 30,
     "metadata": {},
     "output_type": "execute_result"
    }
   ],
   "source": [
    "type(df_final)"
   ]
  },
  {
   "cell_type": "code",
   "execution_count": 31,
   "id": "b0d72c10-be51-4672-b3cd-62a0a1f35b79",
   "metadata": {
    "scrolled": true
   },
   "outputs": [
    {
     "data": {
      "text/html": [
       "<div>\n",
       "<style scoped>\n",
       "    .dataframe tbody tr th:only-of-type {\n",
       "        vertical-align: middle;\n",
       "    }\n",
       "\n",
       "    .dataframe tbody tr th {\n",
       "        vertical-align: top;\n",
       "    }\n",
       "\n",
       "    .dataframe thead th {\n",
       "        text-align: right;\n",
       "    }\n",
       "</style>\n",
       "<table border=\"1\" class=\"dataframe\">\n",
       "  <thead>\n",
       "    <tr style=\"text-align: right;\">\n",
       "      <th></th>\n",
       "      <th>user_id</th>\n",
       "      <th>accessories.bag</th>\n",
       "      <th>accessories.umbrella</th>\n",
       "      <th>accessories.wallet</th>\n",
       "      <th>apparel.belt</th>\n",
       "      <th>apparel.costume</th>\n",
       "      <th>apparel.dress</th>\n",
       "      <th>apparel.glove</th>\n",
       "      <th>apparel.jacket</th>\n",
       "      <th>apparel.jeans</th>\n",
       "      <th>...</th>\n",
       "      <th>kids.skates</th>\n",
       "      <th>kids.swing</th>\n",
       "      <th>kids.toys</th>\n",
       "      <th>medicine.tools.tonometer</th>\n",
       "      <th>sport.bicycle</th>\n",
       "      <th>sport.ski</th>\n",
       "      <th>sport.snowboard</th>\n",
       "      <th>sport.tennis</th>\n",
       "      <th>sport.trainer</th>\n",
       "      <th>stationery.cartrige</th>\n",
       "    </tr>\n",
       "  </thead>\n",
       "  <tbody>\n",
       "    <tr>\n",
       "      <th>0</th>\n",
       "      <td>29515875</td>\n",
       "      <td>0</td>\n",
       "      <td>0</td>\n",
       "      <td>0</td>\n",
       "      <td>0</td>\n",
       "      <td>0</td>\n",
       "      <td>0</td>\n",
       "      <td>0</td>\n",
       "      <td>0</td>\n",
       "      <td>0</td>\n",
       "      <td>...</td>\n",
       "      <td>0</td>\n",
       "      <td>0</td>\n",
       "      <td>0</td>\n",
       "      <td>0</td>\n",
       "      <td>0</td>\n",
       "      <td>0</td>\n",
       "      <td>0</td>\n",
       "      <td>0</td>\n",
       "      <td>0</td>\n",
       "      <td>0</td>\n",
       "    </tr>\n",
       "    <tr>\n",
       "      <th>1</th>\n",
       "      <td>31198833</td>\n",
       "      <td>0</td>\n",
       "      <td>0</td>\n",
       "      <td>0</td>\n",
       "      <td>0</td>\n",
       "      <td>0</td>\n",
       "      <td>0</td>\n",
       "      <td>0</td>\n",
       "      <td>0</td>\n",
       "      <td>0</td>\n",
       "      <td>...</td>\n",
       "      <td>0</td>\n",
       "      <td>0</td>\n",
       "      <td>0</td>\n",
       "      <td>0</td>\n",
       "      <td>0</td>\n",
       "      <td>0</td>\n",
       "      <td>0</td>\n",
       "      <td>0</td>\n",
       "      <td>0</td>\n",
       "      <td>0</td>\n",
       "    </tr>\n",
       "    <tr>\n",
       "      <th>2</th>\n",
       "      <td>34916060</td>\n",
       "      <td>0</td>\n",
       "      <td>0</td>\n",
       "      <td>0</td>\n",
       "      <td>0</td>\n",
       "      <td>0</td>\n",
       "      <td>0</td>\n",
       "      <td>0</td>\n",
       "      <td>0</td>\n",
       "      <td>0</td>\n",
       "      <td>...</td>\n",
       "      <td>0</td>\n",
       "      <td>0</td>\n",
       "      <td>0</td>\n",
       "      <td>0</td>\n",
       "      <td>0</td>\n",
       "      <td>0</td>\n",
       "      <td>0</td>\n",
       "      <td>0</td>\n",
       "      <td>0</td>\n",
       "      <td>0</td>\n",
       "    </tr>\n",
       "    <tr>\n",
       "      <th>3</th>\n",
       "      <td>41798457</td>\n",
       "      <td>0</td>\n",
       "      <td>0</td>\n",
       "      <td>0</td>\n",
       "      <td>0</td>\n",
       "      <td>0</td>\n",
       "      <td>0</td>\n",
       "      <td>0</td>\n",
       "      <td>0</td>\n",
       "      <td>0</td>\n",
       "      <td>...</td>\n",
       "      <td>0</td>\n",
       "      <td>0</td>\n",
       "      <td>0</td>\n",
       "      <td>0</td>\n",
       "      <td>0</td>\n",
       "      <td>0</td>\n",
       "      <td>0</td>\n",
       "      <td>0</td>\n",
       "      <td>0</td>\n",
       "      <td>0</td>\n",
       "    </tr>\n",
       "    <tr>\n",
       "      <th>4</th>\n",
       "      <td>62336140</td>\n",
       "      <td>0</td>\n",
       "      <td>0</td>\n",
       "      <td>0</td>\n",
       "      <td>0</td>\n",
       "      <td>0</td>\n",
       "      <td>0</td>\n",
       "      <td>0</td>\n",
       "      <td>0</td>\n",
       "      <td>0</td>\n",
       "      <td>...</td>\n",
       "      <td>0</td>\n",
       "      <td>0</td>\n",
       "      <td>0</td>\n",
       "      <td>0</td>\n",
       "      <td>0</td>\n",
       "      <td>0</td>\n",
       "      <td>0</td>\n",
       "      <td>0</td>\n",
       "      <td>0</td>\n",
       "      <td>0</td>\n",
       "    </tr>\n",
       "  </tbody>\n",
       "</table>\n",
       "<p>5 rows × 130 columns</p>\n",
       "</div>"
      ],
      "text/plain": [
       "    user_id  accessories.bag  accessories.umbrella  accessories.wallet  \\\n",
       "0  29515875                0                     0                   0   \n",
       "1  31198833                0                     0                   0   \n",
       "2  34916060                0                     0                   0   \n",
       "3  41798457                0                     0                   0   \n",
       "4  62336140                0                     0                   0   \n",
       "\n",
       "   apparel.belt  apparel.costume  apparel.dress  apparel.glove  \\\n",
       "0             0                0              0              0   \n",
       "1             0                0              0              0   \n",
       "2             0                0              0              0   \n",
       "3             0                0              0              0   \n",
       "4             0                0              0              0   \n",
       "\n",
       "   apparel.jacket  apparel.jeans  ...  kids.skates  kids.swing  kids.toys  \\\n",
       "0               0              0  ...            0           0          0   \n",
       "1               0              0  ...            0           0          0   \n",
       "2               0              0  ...            0           0          0   \n",
       "3               0              0  ...            0           0          0   \n",
       "4               0              0  ...            0           0          0   \n",
       "\n",
       "   medicine.tools.tonometer  sport.bicycle  sport.ski  sport.snowboard  \\\n",
       "0                         0              0          0                0   \n",
       "1                         0              0          0                0   \n",
       "2                         0              0          0                0   \n",
       "3                         0              0          0                0   \n",
       "4                         0              0          0                0   \n",
       "\n",
       "   sport.tennis  sport.trainer  stationery.cartrige  \n",
       "0             0              0                    0  \n",
       "1             0              0                    0  \n",
       "2             0              0                    0  \n",
       "3             0              0                    0  \n",
       "4             0              0                    0  \n",
       "\n",
       "[5 rows x 130 columns]"
      ]
     },
     "execution_count": 31,
     "metadata": {},
     "output_type": "execute_result"
    }
   ],
   "source": [
    "df_final.head()"
   ]
  },
  {
   "cell_type": "code",
   "execution_count": 32,
   "id": "d74fe482-8ab3-4864-acd5-59542b3a91f1",
   "metadata": {},
   "outputs": [
    {
     "data": {
      "text/plain": [
       "(2862935, 130)"
      ]
     },
     "execution_count": 32,
     "metadata": {},
     "output_type": "execute_result"
    }
   ],
   "source": [
    "df_final.shape  #130 unique category code we have in our code"
   ]
  },
  {
   "cell_type": "code",
   "execution_count": 63,
   "id": "e90dabc5-171b-41c6-9e98-067a00cde030",
   "metadata": {},
   "outputs": [
    {
     "name": "stdout",
     "output_type": "stream",
     "text": [
      "Frequent Itemsets:\n",
      "      support                                           itemsets\n",
      "0    0.019332                                  (accessories.bag)\n",
      "1    0.004330                               (accessories.wallet)\n",
      "2    0.013990                                  (apparel.costume)\n",
      "3    0.010183                                    (apparel.dress)\n",
      "4    0.004804                                   (apparel.jumper)\n",
      "..        ...                                                ...\n",
      "175  0.016573  (electronics.audio.headphone, electronics.cloc...\n",
      "176  0.004153  (electronics.audio.headphone, electronics.smar...\n",
      "177  0.008303  (electronics.audio.headphone, electronics.vide...\n",
      "178  0.004013  (electronics.telephone, electronics.clocks, el...\n",
      "179  0.007519  (electronics.video.tv, electronics.smartphone,...\n",
      "\n",
      "[180 rows x 2 columns]\n",
      "\n",
      "Association Rules:\n",
      "                                      antecedents  \\\n",
      "0                                 (apparel.shoes)   \n",
      "1                               (accessories.bag)   \n",
      "2                               (accessories.bag)   \n",
      "3                            (computers.notebook)   \n",
      "4                            (electronics.clocks)   \n",
      "..                                            ...   \n",
      "227    (electronics.video.tv, electronics.clocks)   \n",
      "228  (electronics.clocks, electronics.smartphone)   \n",
      "229                        (electronics.video.tv)   \n",
      "230                      (electronics.smartphone)   \n",
      "231                          (electronics.clocks)   \n",
      "\n",
      "                                        consequents  antecedent support  \\\n",
      "0                                 (accessories.bag)            0.080798   \n",
      "1                                   (apparel.shoes)            0.019332   \n",
      "2                              (computers.notebook)            0.019332   \n",
      "3                                 (accessories.bag)            0.068901   \n",
      "4                                 (accessories.bag)            0.093068   \n",
      "..                                              ...                 ...   \n",
      "227                        (electronics.smartphone)            0.010359   \n",
      "228                          (electronics.video.tv)            0.050175   \n",
      "229    (electronics.clocks, electronics.smartphone)            0.091013   \n",
      "230      (electronics.video.tv, electronics.clocks)            0.550223   \n",
      "231  (electronics.video.tv, electronics.smartphone)            0.093068   \n",
      "\n",
      "     consequent support   support  confidence      lift  leverage  conviction  \\\n",
      "0              0.019332  0.004613    0.057098  2.953636  0.003051    1.040054   \n",
      "1              0.080798  0.004613    0.238648  2.953636  0.003051    1.207329   \n",
      "2              0.068901  0.004535    0.234565  3.404362  0.003203    1.216431   \n",
      "3              0.019332  0.004535    0.065812  3.404362  0.003203    1.049754   \n",
      "4              0.019332  0.004719    0.050700  2.622671  0.002919    1.033044   \n",
      "..                  ...       ...         ...       ...       ...         ...   \n",
      "227            0.550223  0.007519    0.725832  1.319159  0.001819    1.640516   \n",
      "228            0.091013  0.007519    0.149852  1.646497  0.002952    1.069211   \n",
      "229            0.050175  0.007519    0.082613  1.646497  0.002952    1.035359   \n",
      "230            0.010359  0.007519    0.013665  1.319159  0.001819    1.003352   \n",
      "231            0.039573  0.007519    0.080789  2.041510  0.003836    1.044838   \n",
      "\n",
      "     zhangs_metric  \n",
      "0         0.719575  \n",
      "1         0.674473  \n",
      "2         0.720181  \n",
      "3         0.758522  \n",
      "4         0.682200  \n",
      "..             ...  \n",
      "227       0.244474  \n",
      "228       0.413392  \n",
      "229       0.431964  \n",
      "230       0.537915  \n",
      "231       0.562519  \n",
      "\n",
      "[232 rows x 10 columns]\n"
     ]
    }
   ],
   "source": [
    "import pandas as pd\n",
    "from mlxtend.preprocessing import TransactionEncoder\n",
    "from mlxtend.frequent_patterns import apriori, association_rules\n",
    "\n",
    "# Example DataFrame\n",
    "data = unique_items_df\n",
    "\n",
    "df = pd.DataFrame(data)\n",
    "\n",
    "# Convert the list of categories into a one-hot encoded format\n",
    "te = TransactionEncoder()\n",
    "te_ary = te.fit(df['category_code']).transform(df['category_code'])\n",
    "df_onehot = pd.DataFrame(te_ary, columns=te.columns_)\n",
    "\n",
    "# Apply the Apriori algorithm with a minimum support threshold (e.g., 0.4)\n",
    "frequent_itemsets = apriori(df_onehot, min_support=0.004, use_colnames=True)\n",
    "\n",
    "# Generate association rules with a minimum lift threshold (e.g., 1.0)\n",
    "rules = association_rules(frequent_itemsets, metric=\"lift\", min_threshold=1.0)\n",
    "\n",
    "# Display the results\n",
    "print(\"Frequent Itemsets:\")\n",
    "print(frequent_itemsets)\n",
    "print(\"\\nAssociation Rules:\")\n",
    "print(rules)\n"
   ]
  },
  {
   "cell_type": "code",
   "execution_count": 34,
   "id": "fe22054b-064c-4248-90d4-cb34de394835",
   "metadata": {},
   "outputs": [
    {
     "name": "stdout",
     "output_type": "stream",
     "text": [
      "Collecting mlxtend\n",
      "  Downloading mlxtend-0.23.1-py3-none-any.whl.metadata (7.3 kB)\n",
      "Requirement already satisfied: scipy>=1.2.1 in c:\\users\\ranu1\\appdata\\local\\programs\\python\\python312\\lib\\site-packages (from mlxtend) (1.13.1)\n",
      "Requirement already satisfied: numpy>=1.16.2 in c:\\users\\ranu1\\appdata\\local\\programs\\python\\python312\\lib\\site-packages (from mlxtend) (1.26.4)\n",
      "Requirement already satisfied: pandas>=0.24.2 in c:\\users\\ranu1\\appdata\\local\\programs\\python\\python312\\lib\\site-packages (from mlxtend) (2.2.2)\n",
      "Requirement already satisfied: scikit-learn>=1.0.2 in c:\\users\\ranu1\\appdata\\local\\programs\\python\\python312\\lib\\site-packages (from mlxtend) (1.5.0)\n",
      "Requirement already satisfied: matplotlib>=3.0.0 in c:\\users\\ranu1\\appdata\\local\\programs\\python\\python312\\lib\\site-packages (from mlxtend) (3.9.0)\n",
      "Requirement already satisfied: joblib>=0.13.2 in c:\\users\\ranu1\\appdata\\local\\programs\\python\\python312\\lib\\site-packages (from mlxtend) (1.4.2)\n",
      "Requirement already satisfied: contourpy>=1.0.1 in c:\\users\\ranu1\\appdata\\local\\programs\\python\\python312\\lib\\site-packages (from matplotlib>=3.0.0->mlxtend) (1.2.1)\n",
      "Requirement already satisfied: cycler>=0.10 in c:\\users\\ranu1\\appdata\\local\\programs\\python\\python312\\lib\\site-packages (from matplotlib>=3.0.0->mlxtend) (0.12.1)\n",
      "Requirement already satisfied: fonttools>=4.22.0 in c:\\users\\ranu1\\appdata\\local\\programs\\python\\python312\\lib\\site-packages (from matplotlib>=3.0.0->mlxtend) (4.52.4)\n",
      "Requirement already satisfied: kiwisolver>=1.3.1 in c:\\users\\ranu1\\appdata\\local\\programs\\python\\python312\\lib\\site-packages (from matplotlib>=3.0.0->mlxtend) (1.4.5)\n",
      "Requirement already satisfied: packaging>=20.0 in c:\\users\\ranu1\\appdata\\local\\programs\\python\\python312\\lib\\site-packages (from matplotlib>=3.0.0->mlxtend) (24.0)\n",
      "Requirement already satisfied: pillow>=8 in c:\\users\\ranu1\\appdata\\local\\programs\\python\\python312\\lib\\site-packages (from matplotlib>=3.0.0->mlxtend) (10.3.0)\n",
      "Requirement already satisfied: pyparsing>=2.3.1 in c:\\users\\ranu1\\appdata\\local\\programs\\python\\python312\\lib\\site-packages (from matplotlib>=3.0.0->mlxtend) (3.1.2)\n",
      "Requirement already satisfied: python-dateutil>=2.7 in c:\\users\\ranu1\\appdata\\local\\programs\\python\\python312\\lib\\site-packages (from matplotlib>=3.0.0->mlxtend) (2.9.0.post0)\n",
      "Requirement already satisfied: pytz>=2020.1 in c:\\users\\ranu1\\appdata\\local\\programs\\python\\python312\\lib\\site-packages (from pandas>=0.24.2->mlxtend) (2024.1)\n",
      "Requirement already satisfied: tzdata>=2022.7 in c:\\users\\ranu1\\appdata\\local\\programs\\python\\python312\\lib\\site-packages (from pandas>=0.24.2->mlxtend) (2024.1)\n",
      "Requirement already satisfied: threadpoolctl>=3.1.0 in c:\\users\\ranu1\\appdata\\local\\programs\\python\\python312\\lib\\site-packages (from scikit-learn>=1.0.2->mlxtend) (3.5.0)\n",
      "Requirement already satisfied: six>=1.5 in c:\\users\\ranu1\\appdata\\local\\programs\\python\\python312\\lib\\site-packages (from python-dateutil>=2.7->matplotlib>=3.0.0->mlxtend) (1.16.0)\n",
      "Downloading mlxtend-0.23.1-py3-none-any.whl (1.4 MB)\n",
      "   ---------------------------------------- 0.0/1.4 MB ? eta -:--:--\n",
      "    --------------------------------------- 0.0/1.4 MB 1.3 MB/s eta 0:00:02\n",
      "   ---- ----------------------------------- 0.2/1.4 MB 2.6 MB/s eta 0:00:01\n",
      "   ------------ --------------------------- 0.5/1.4 MB 4.0 MB/s eta 0:00:01\n",
      "   --------------------- ------------------ 0.8/1.4 MB 5.0 MB/s eta 0:00:01\n",
      "   ---------------------------- ----------- 1.0/1.4 MB 5.1 MB/s eta 0:00:01\n",
      "   ------------------------------------ --- 1.3/1.4 MB 5.2 MB/s eta 0:00:01\n",
      "   ---------------------------------------- 1.4/1.4 MB 4.8 MB/s eta 0:00:00\n",
      "Installing collected packages: mlxtend\n",
      "Successfully installed mlxtend-0.23.1\n",
      "Note: you may need to restart the kernel to use updated packages.\n"
     ]
    },
    {
     "name": "stderr",
     "output_type": "stream",
     "text": [
      "\n",
      "[notice] A new release of pip is available: 24.1.1 -> 24.2\n",
      "[notice] To update, run: python.exe -m pip install --upgrade pip\n"
     ]
    }
   ],
   "source": [
    "pip install mlxtend"
   ]
  },
  {
   "cell_type": "code",
   "execution_count": 37,
   "id": "7f8887b2-1646-4f75-a59c-20ab866bdd71",
   "metadata": {},
   "outputs": [
    {
     "data": {
      "text/plain": [
       "0.007692307692307693"
      ]
     },
     "execution_count": 37,
     "metadata": {},
     "output_type": "execute_result"
    }
   ],
   "source": []
  },
  {
   "cell_type": "code",
   "execution_count": 56,
   "id": "8c161e95-d194-4e6b-b286-019e69c9b10b",
   "metadata": {},
   "outputs": [
    {
     "data": {
      "text/html": [
       "<div>\n",
       "<style scoped>\n",
       "    .dataframe tbody tr th:only-of-type {\n",
       "        vertical-align: middle;\n",
       "    }\n",
       "\n",
       "    .dataframe tbody tr th {\n",
       "        vertical-align: top;\n",
       "    }\n",
       "\n",
       "    .dataframe thead th {\n",
       "        text-align: right;\n",
       "    }\n",
       "</style>\n",
       "<table border=\"1\" class=\"dataframe\">\n",
       "  <thead>\n",
       "    <tr style=\"text-align: right;\">\n",
       "      <th></th>\n",
       "      <th>support</th>\n",
       "      <th>itemsets</th>\n",
       "    </tr>\n",
       "  </thead>\n",
       "  <tbody>\n",
       "    <tr>\n",
       "      <th>129</th>\n",
       "      <td>0.007669</td>\n",
       "      <td>(electronics.clocks, electronics.smartphone, c...</td>\n",
       "    </tr>\n",
       "    <tr>\n",
       "      <th>130</th>\n",
       "      <td>0.006109</td>\n",
       "      <td>(electronics.video.tv, electronics.smartphone,...</td>\n",
       "    </tr>\n",
       "    <tr>\n",
       "      <th>131</th>\n",
       "      <td>0.016573</td>\n",
       "      <td>(electronics.audio.headphone, electronics.cloc...</td>\n",
       "    </tr>\n",
       "    <tr>\n",
       "      <th>132</th>\n",
       "      <td>0.008303</td>\n",
       "      <td>(electronics.audio.headphone, electronics.vide...</td>\n",
       "    </tr>\n",
       "    <tr>\n",
       "      <th>133</th>\n",
       "      <td>0.007519</td>\n",
       "      <td>(electronics.video.tv, electronics.smartphone,...</td>\n",
       "    </tr>\n",
       "  </tbody>\n",
       "</table>\n",
       "</div>"
      ],
      "text/plain": [
       "      support                                           itemsets\n",
       "129  0.007669  (electronics.clocks, electronics.smartphone, c...\n",
       "130  0.006109  (electronics.video.tv, electronics.smartphone,...\n",
       "131  0.016573  (electronics.audio.headphone, electronics.cloc...\n",
       "132  0.008303  (electronics.audio.headphone, electronics.vide...\n",
       "133  0.007519  (electronics.video.tv, electronics.smartphone,..."
      ]
     },
     "execution_count": 56,
     "metadata": {},
     "output_type": "execute_result"
    }
   ],
   "source": [
    "frequent_itemsets.tail()"
   ]
  },
  {
   "cell_type": "code",
   "execution_count": 64,
   "id": "57c304f2-8be6-431f-af96-f61c135bc94c",
   "metadata": {},
   "outputs": [
    {
     "data": {
      "text/plain": [
       "(180, 2)"
      ]
     },
     "execution_count": 64,
     "metadata": {},
     "output_type": "execute_result"
    }
   ],
   "source": [
    "frequent_itemsets.shape"
   ]
  },
  {
   "cell_type": "code",
   "execution_count": 59,
   "id": "8b122b7c-804a-42b4-a6d5-d2368bcd0083",
   "metadata": {},
   "outputs": [
    {
     "data": {
      "text/html": [
       "<div>\n",
       "<style scoped>\n",
       "    .dataframe tbody tr th:only-of-type {\n",
       "        vertical-align: middle;\n",
       "    }\n",
       "\n",
       "    .dataframe tbody tr th {\n",
       "        vertical-align: top;\n",
       "    }\n",
       "\n",
       "    .dataframe thead th {\n",
       "        text-align: right;\n",
       "    }\n",
       "</style>\n",
       "<table border=\"1\" class=\"dataframe\">\n",
       "  <thead>\n",
       "    <tr style=\"text-align: right;\">\n",
       "      <th></th>\n",
       "      <th>antecedents</th>\n",
       "      <th>consequents</th>\n",
       "      <th>antecedent support</th>\n",
       "      <th>consequent support</th>\n",
       "      <th>support</th>\n",
       "      <th>confidence</th>\n",
       "      <th>lift</th>\n",
       "      <th>leverage</th>\n",
       "      <th>conviction</th>\n",
       "      <th>zhangs_metric</th>\n",
       "    </tr>\n",
       "  </thead>\n",
       "  <tbody>\n",
       "    <tr>\n",
       "      <th>122</th>\n",
       "      <td>(electronics.video.tv, electronics.smartphone)</td>\n",
       "      <td>(electronics.audio.headphone)</td>\n",
       "      <td>0.039573</td>\n",
       "      <td>0.110155</td>\n",
       "      <td>0.008303</td>\n",
       "      <td>0.209824</td>\n",
       "      <td>1.904798</td>\n",
       "      <td>0.003944</td>\n",
       "      <td>1.126134</td>\n",
       "      <td>0.494582</td>\n",
       "    </tr>\n",
       "    <tr>\n",
       "      <th>123</th>\n",
       "      <td>(electronics.audio.headphone)</td>\n",
       "      <td>(electronics.video.tv, electronics.smartphone)</td>\n",
       "      <td>0.110155</td>\n",
       "      <td>0.039573</td>\n",
       "      <td>0.008303</td>\n",
       "      <td>0.075379</td>\n",
       "      <td>1.904798</td>\n",
       "      <td>0.003944</td>\n",
       "      <td>1.038725</td>\n",
       "      <td>0.533812</td>\n",
       "    </tr>\n",
       "    <tr>\n",
       "      <th>124</th>\n",
       "      <td>(electronics.video.tv)</td>\n",
       "      <td>(electronics.audio.headphone, electronics.smar...</td>\n",
       "      <td>0.091013</td>\n",
       "      <td>0.056853</td>\n",
       "      <td>0.008303</td>\n",
       "      <td>0.091233</td>\n",
       "      <td>1.604710</td>\n",
       "      <td>0.003129</td>\n",
       "      <td>1.037831</td>\n",
       "      <td>0.414565</td>\n",
       "    </tr>\n",
       "    <tr>\n",
       "      <th>125</th>\n",
       "      <td>(electronics.smartphone)</td>\n",
       "      <td>(electronics.audio.headphone, electronics.vide...</td>\n",
       "      <td>0.550223</td>\n",
       "      <td>0.012193</td>\n",
       "      <td>0.008303</td>\n",
       "      <td>0.015091</td>\n",
       "      <td>1.237626</td>\n",
       "      <td>0.001594</td>\n",
       "      <td>1.002942</td>\n",
       "      <td>0.426882</td>\n",
       "    </tr>\n",
       "    <tr>\n",
       "      <th>126</th>\n",
       "      <td>(electronics.video.tv, electronics.smartphone)</td>\n",
       "      <td>(electronics.clocks)</td>\n",
       "      <td>0.039573</td>\n",
       "      <td>0.093068</td>\n",
       "      <td>0.007519</td>\n",
       "      <td>0.190000</td>\n",
       "      <td>2.041510</td>\n",
       "      <td>0.003836</td>\n",
       "      <td>1.119668</td>\n",
       "      <td>0.531187</td>\n",
       "    </tr>\n",
       "    <tr>\n",
       "      <th>127</th>\n",
       "      <td>(electronics.video.tv, electronics.clocks)</td>\n",
       "      <td>(electronics.smartphone)</td>\n",
       "      <td>0.010359</td>\n",
       "      <td>0.550223</td>\n",
       "      <td>0.007519</td>\n",
       "      <td>0.725832</td>\n",
       "      <td>1.319159</td>\n",
       "      <td>0.001819</td>\n",
       "      <td>1.640516</td>\n",
       "      <td>0.244474</td>\n",
       "    </tr>\n",
       "    <tr>\n",
       "      <th>128</th>\n",
       "      <td>(electronics.clocks, electronics.smartphone)</td>\n",
       "      <td>(electronics.video.tv)</td>\n",
       "      <td>0.050175</td>\n",
       "      <td>0.091013</td>\n",
       "      <td>0.007519</td>\n",
       "      <td>0.149852</td>\n",
       "      <td>1.646497</td>\n",
       "      <td>0.002952</td>\n",
       "      <td>1.069211</td>\n",
       "      <td>0.413392</td>\n",
       "    </tr>\n",
       "    <tr>\n",
       "      <th>129</th>\n",
       "      <td>(electronics.video.tv)</td>\n",
       "      <td>(electronics.clocks, electronics.smartphone)</td>\n",
       "      <td>0.091013</td>\n",
       "      <td>0.050175</td>\n",
       "      <td>0.007519</td>\n",
       "      <td>0.082613</td>\n",
       "      <td>1.646497</td>\n",
       "      <td>0.002952</td>\n",
       "      <td>1.035359</td>\n",
       "      <td>0.431964</td>\n",
       "    </tr>\n",
       "    <tr>\n",
       "      <th>130</th>\n",
       "      <td>(electronics.smartphone)</td>\n",
       "      <td>(electronics.video.tv, electronics.clocks)</td>\n",
       "      <td>0.550223</td>\n",
       "      <td>0.010359</td>\n",
       "      <td>0.007519</td>\n",
       "      <td>0.013665</td>\n",
       "      <td>1.319159</td>\n",
       "      <td>0.001819</td>\n",
       "      <td>1.003352</td>\n",
       "      <td>0.537915</td>\n",
       "    </tr>\n",
       "    <tr>\n",
       "      <th>131</th>\n",
       "      <td>(electronics.clocks)</td>\n",
       "      <td>(electronics.video.tv, electronics.smartphone)</td>\n",
       "      <td>0.093068</td>\n",
       "      <td>0.039573</td>\n",
       "      <td>0.007519</td>\n",
       "      <td>0.080789</td>\n",
       "      <td>2.041510</td>\n",
       "      <td>0.003836</td>\n",
       "      <td>1.044838</td>\n",
       "      <td>0.562519</td>\n",
       "    </tr>\n",
       "  </tbody>\n",
       "</table>\n",
       "</div>"
      ],
      "text/plain": [
       "                                        antecedents  \\\n",
       "122  (electronics.video.tv, electronics.smartphone)   \n",
       "123                   (electronics.audio.headphone)   \n",
       "124                          (electronics.video.tv)   \n",
       "125                        (electronics.smartphone)   \n",
       "126  (electronics.video.tv, electronics.smartphone)   \n",
       "127      (electronics.video.tv, electronics.clocks)   \n",
       "128    (electronics.clocks, electronics.smartphone)   \n",
       "129                          (electronics.video.tv)   \n",
       "130                        (electronics.smartphone)   \n",
       "131                            (electronics.clocks)   \n",
       "\n",
       "                                           consequents  antecedent support  \\\n",
       "122                      (electronics.audio.headphone)            0.039573   \n",
       "123     (electronics.video.tv, electronics.smartphone)            0.110155   \n",
       "124  (electronics.audio.headphone, electronics.smar...            0.091013   \n",
       "125  (electronics.audio.headphone, electronics.vide...            0.550223   \n",
       "126                               (electronics.clocks)            0.039573   \n",
       "127                           (electronics.smartphone)            0.010359   \n",
       "128                             (electronics.video.tv)            0.050175   \n",
       "129       (electronics.clocks, electronics.smartphone)            0.091013   \n",
       "130         (electronics.video.tv, electronics.clocks)            0.550223   \n",
       "131     (electronics.video.tv, electronics.smartphone)            0.093068   \n",
       "\n",
       "     consequent support   support  confidence      lift  leverage  conviction  \\\n",
       "122            0.110155  0.008303    0.209824  1.904798  0.003944    1.126134   \n",
       "123            0.039573  0.008303    0.075379  1.904798  0.003944    1.038725   \n",
       "124            0.056853  0.008303    0.091233  1.604710  0.003129    1.037831   \n",
       "125            0.012193  0.008303    0.015091  1.237626  0.001594    1.002942   \n",
       "126            0.093068  0.007519    0.190000  2.041510  0.003836    1.119668   \n",
       "127            0.550223  0.007519    0.725832  1.319159  0.001819    1.640516   \n",
       "128            0.091013  0.007519    0.149852  1.646497  0.002952    1.069211   \n",
       "129            0.050175  0.007519    0.082613  1.646497  0.002952    1.035359   \n",
       "130            0.010359  0.007519    0.013665  1.319159  0.001819    1.003352   \n",
       "131            0.039573  0.007519    0.080789  2.041510  0.003836    1.044838   \n",
       "\n",
       "     zhangs_metric  \n",
       "122       0.494582  \n",
       "123       0.533812  \n",
       "124       0.414565  \n",
       "125       0.426882  \n",
       "126       0.531187  \n",
       "127       0.244474  \n",
       "128       0.413392  \n",
       "129       0.431964  \n",
       "130       0.537915  \n",
       "131       0.562519  "
      ]
     },
     "execution_count": 59,
     "metadata": {},
     "output_type": "execute_result"
    }
   ],
   "source": [
    "rules.tail(10)"
   ]
  },
  {
   "cell_type": "code",
   "execution_count": 65,
   "id": "fac60ee8-af04-41f5-a987-fe53aa09644c",
   "metadata": {},
   "outputs": [
    {
     "data": {
      "text/plain": [
       "(232, 10)"
      ]
     },
     "execution_count": 65,
     "metadata": {},
     "output_type": "execute_result"
    }
   ],
   "source": [
    "rules.shape"
   ]
  },
  {
   "cell_type": "code",
   "execution_count": 71,
   "id": "97a15c89-aa70-471c-8d14-1c72a917de31",
   "metadata": {},
   "outputs": [
    {
     "name": "stdout",
     "output_type": "stream",
     "text": [
      "                  antecedents                                     consequents  \\\n",
      "0             (apparel.shoes)                               (accessories.bag)   \n",
      "1           (accessories.bag)                                 (apparel.shoes)   \n",
      "2           (accessories.bag)                            (computers.notebook)   \n",
      "3        (computers.notebook)                               (accessories.bag)   \n",
      "4        (electronics.clocks)                               (accessories.bag)   \n",
      "..                        ...                                             ...   \n",
      "185      (electronics.clocks)  (electronics.video.tv, electronics.smartphone)   \n",
      "78   (electronics.smartphone)                            (electronics.tablet)   \n",
      "79       (electronics.tablet)                        (electronics.smartphone)   \n",
      "80    (electronics.telephone)                        (electronics.smartphone)   \n",
      "81   (electronics.smartphone)                         (electronics.telephone)   \n",
      "\n",
      "     antecedent support  consequent support   support  confidence      lift  \\\n",
      "0              0.080798            0.019332  0.004613    0.057098  2.953636   \n",
      "1              0.019332            0.080798  0.004613    0.238648  2.953636   \n",
      "2              0.019332            0.068901  0.004535    0.234565  3.404362   \n",
      "3              0.068901            0.019332  0.004535    0.065812  3.404362   \n",
      "4              0.093068            0.019332  0.004719    0.050700  2.622671   \n",
      "..                  ...                 ...       ...         ...       ...   \n",
      "185            0.093068            0.039573  0.007519    0.080789  2.041510   \n",
      "78             0.550223            0.028231  0.015553    0.028266  1.001232   \n",
      "79             0.028231            0.550223  0.015553    0.550901  1.001232   \n",
      "80             0.024868            0.550223  0.017489    0.703266  1.278146   \n",
      "81             0.550223            0.024868  0.017489    0.031785  1.278146   \n",
      "\n",
      "     leverage  conviction  zhangs_metric  \n",
      "0    0.003051    1.040054       0.719575  \n",
      "1    0.003051    1.207329       0.674473  \n",
      "2    0.003203    1.216431       0.720181  \n",
      "3    0.003203    1.049754       0.758522  \n",
      "4    0.002919    1.033044       0.682200  \n",
      "..        ...         ...            ...  \n",
      "185  0.003836    1.044838       0.562519  \n",
      "78   0.000019    1.000036       0.002735  \n",
      "79   0.000019    1.001509       0.001266  \n",
      "80   0.003806    1.515756       0.223167  \n",
      "81   0.003806    1.007144       0.483833  \n",
      "\n",
      "[186 rows x 10 columns]\n"
     ]
    }
   ],
   "source": [
    "import pandas as pd\n",
    "from mlxtend.preprocessing import TransactionEncoder\n",
    "from mlxtend.frequent_patterns import apriori, association_rules\n",
    "\n",
    "# Example DataFrame\n",
    "data = unique_items_df\n",
    "\n",
    "df = pd.DataFrame(data)\n",
    "\n",
    "# Convert the list of categories into a one-hot encoded format\n",
    "te = TransactionEncoder()\n",
    "te_ary = te.fit(df['category_code']).transform(df['category_code'])\n",
    "df_onehot = pd.DataFrame(te_ary, columns=te.columns_)\n",
    "\n",
    "# Apply the Apriori algorithm with a lower min_support\n",
    "frequent_itemsets = apriori(df_onehot, min_support=0.0045, use_colnames=True)\n",
    "\n",
    "# Generate association rules\n",
    "rules = association_rules(frequent_itemsets, metric=\"lift\", min_threshold=1.0)\n",
    "\n",
    "# Filter rules to ensure each item appears in at least one of the antecedent or consequent\n",
    "item_list = te.columns_\n",
    "rules_with_items = pd.DataFrame()\n",
    "\n",
    "for item in item_list:\n",
    "    item_rules = rules[(rules['antecedents'].apply(lambda x: item in x)) | (rules['consequents'].apply(lambda x: item in x))]\n",
    "    rules_with_items = pd.concat([rules_with_items, item_rules])\n",
    "\n",
    "# Remove duplicates if necessary\n",
    "rules_with_items = rules_with_items.drop_duplicates()\n",
    "\n",
    "# Export the filtered rules to a CSV file\n",
    "rules_with_items.to_csv('filtered_association_rules.csv', index=False)\n",
    "\n",
    "print(rules_with_items)\n"
   ]
  },
  {
   "cell_type": "code",
   "execution_count": 66,
   "id": "1e727451-41a0-4ca0-974d-96ca0a07a8b4",
   "metadata": {},
   "outputs": [],
   "source": [
    "rules.to_csv('output1.csv', index=False)\n"
   ]
  },
  {
   "cell_type": "code",
   "execution_count": null,
   "id": "493a3cb3-b38e-4fed-b9bb-a7a3fb2f4762",
   "metadata": {},
   "outputs": [],
   "source": []
  },
  {
   "cell_type": "code",
   "execution_count": 263,
   "id": "a9a11154-c2ab-4a71-bc73-06f1012eeb7f",
   "metadata": {},
   "outputs": [],
   "source": [
    "rules_with_items.to_csv('output1.csv', index=False)"
   ]
  },
  {
   "cell_type": "code",
   "execution_count": 73,
   "id": "eeb2de83-5ed5-4d4a-bb6e-4555fce4ca17",
   "metadata": {},
   "outputs": [
    {
     "data": {
      "text/plain": [
       "pandas.core.frame.DataFrame"
      ]
     },
     "execution_count": 73,
     "metadata": {},
     "output_type": "execute_result"
    }
   ],
   "source": [
    "type(rules_with_items)"
   ]
  },
  {
   "cell_type": "code",
   "execution_count": 133,
   "id": "f45a5fb1-c122-48d4-b657-a9ec02b0de1b",
   "metadata": {},
   "outputs": [
    {
     "name": "stdin",
     "output_type": "stream",
     "text": [
      "Enter category electronics.tablet\n"
     ]
    }
   ],
   "source": [
    "ap = input(\"Enter category\")"
   ]
  },
  {
   "cell_type": "code",
   "execution_count": 134,
   "id": "4dcd4eab-cc2f-4aec-94a6-26ae2a034482",
   "metadata": {},
   "outputs": [],
   "source": [
    "filtered_rules = rules_with_items[rules_with_items['antecedents'].apply(lambda x: ap in x)]"
   ]
  },
  {
   "cell_type": "code",
   "execution_count": 135,
   "id": "f389e298-be00-40ce-b4ef-99a8b2748bce",
   "metadata": {},
   "outputs": [
    {
     "name": "stderr",
     "output_type": "stream",
     "text": [
      "C:\\Users\\ranu1\\AppData\\Local\\Temp\\ipykernel_11824\\1341211584.py:1: FutureWarning: Series.__getitem__ treating keys as positions is deprecated. In a future version, integer keys will always be treated as labels (consistent with DataFrame behavior). To access a value by position, use `ser.iloc[pos]`\n",
      "  a = str(filtered_rules.iloc[0][1])\n"
     ]
    }
   ],
   "source": [
    "a = str(filtered_rules.iloc[0][1])"
   ]
  },
  {
   "cell_type": "code",
   "execution_count": 136,
   "id": "41aa9498-d3d6-4871-932a-4ca65157470a",
   "metadata": {},
   "outputs": [
    {
     "name": "stdout",
     "output_type": "stream",
     "text": [
      "frozenset({'computers.notebook'})\n"
     ]
    }
   ],
   "source": [
    "print(a)"
   ]
  },
  {
   "cell_type": "code",
   "execution_count": 137,
   "id": "8d495d95-87a9-4a71-a2f4-dcb797b65195",
   "metadata": {},
   "outputs": [],
   "source": [
    "flag = False\n",
    "start = 0\n",
    "end = 0\n",
    "for i in range(len(a)):\n",
    "    if a[i] == \"'\" and flag == False:\n",
    "        start = i\n",
    "        flag = True\n",
    "    if flag == True and a[i] == \"'\":\n",
    "        end = i\n",
    "ans = a[start+1:end]"
   ]
  },
  {
   "cell_type": "code",
   "execution_count": 138,
   "id": "ae70d7a6-8571-4223-86d5-a9a7c7db31f4",
   "metadata": {},
   "outputs": [
    {
     "data": {
      "text/plain": [
       "'computers.notebook'"
      ]
     },
     "execution_count": 138,
     "metadata": {},
     "output_type": "execute_result"
    }
   ],
   "source": [
    "ans"
   ]
  },
  {
   "cell_type": "code",
   "execution_count": 269,
   "id": "ecc097cb-d3cb-407e-9886-e09407b57d07",
   "metadata": {},
   "outputs": [],
   "source": [
    "rules.to_csv('terafile.csv', index=False)"
   ]
  },
  {
   "cell_type": "code",
   "execution_count": 159,
   "id": "fb6832ef-4838-411e-a6f9-51d58a5d1699",
   "metadata": {},
   "outputs": [
    {
     "data": {
      "text/html": [
       "<div>\n",
       "<style scoped>\n",
       "    .dataframe tbody tr th:only-of-type {\n",
       "        vertical-align: middle;\n",
       "    }\n",
       "\n",
       "    .dataframe tbody tr th {\n",
       "        vertical-align: top;\n",
       "    }\n",
       "\n",
       "    .dataframe thead th {\n",
       "        text-align: right;\n",
       "    }\n",
       "</style>\n",
       "<table border=\"1\" class=\"dataframe\">\n",
       "  <thead>\n",
       "    <tr style=\"text-align: right;\">\n",
       "      <th></th>\n",
       "      <th>category_code</th>\n",
       "      <th>user_id</th>\n",
       "    </tr>\n",
       "  </thead>\n",
       "  <tbody>\n",
       "    <tr>\n",
       "      <th>0</th>\n",
       "      <td>electronics.smartphone</td>\n",
       "      <td>520088904</td>\n",
       "    </tr>\n",
       "    <tr>\n",
       "      <th>1</th>\n",
       "      <td>appliances.sewing_machine</td>\n",
       "      <td>530496790</td>\n",
       "    </tr>\n",
       "    <tr>\n",
       "      <th>3</th>\n",
       "      <td>appliances.kitchen.washer</td>\n",
       "      <td>518085591</td>\n",
       "    </tr>\n",
       "    <tr>\n",
       "      <th>4</th>\n",
       "      <td>electronics.smartphone</td>\n",
       "      <td>558856683</td>\n",
       "    </tr>\n",
       "    <tr>\n",
       "      <th>5</th>\n",
       "      <td>computers.notebook</td>\n",
       "      <td>520772685</td>\n",
       "    </tr>\n",
       "    <tr>\n",
       "      <th>...</th>\n",
       "      <td>...</td>\n",
       "      <td>...</td>\n",
       "    </tr>\n",
       "    <tr>\n",
       "      <th>67501972</th>\n",
       "      <td>construction.tools.drill</td>\n",
       "      <td>562661595</td>\n",
       "    </tr>\n",
       "    <tr>\n",
       "      <th>67501975</th>\n",
       "      <td>apparel.shoes</td>\n",
       "      <td>545223467</td>\n",
       "    </tr>\n",
       "    <tr>\n",
       "      <th>67501976</th>\n",
       "      <td>electronics.smartphone</td>\n",
       "      <td>557794415</td>\n",
       "    </tr>\n",
       "    <tr>\n",
       "      <th>67501977</th>\n",
       "      <td>appliances.kitchen.refrigerators</td>\n",
       "      <td>531607492</td>\n",
       "    </tr>\n",
       "    <tr>\n",
       "      <th>67501978</th>\n",
       "      <td>electronics.smartphone</td>\n",
       "      <td>579969851</td>\n",
       "    </tr>\n",
       "  </tbody>\n",
       "</table>\n",
       "<p>42089564 rows × 2 columns</p>\n",
       "</div>"
      ],
      "text/plain": [
       "                             category_code    user_id\n",
       "0                   electronics.smartphone  520088904\n",
       "1                appliances.sewing_machine  530496790\n",
       "3                appliances.kitchen.washer  518085591\n",
       "4                   electronics.smartphone  558856683\n",
       "5                       computers.notebook  520772685\n",
       "...                                    ...        ...\n",
       "67501972          construction.tools.drill  562661595\n",
       "67501975                     apparel.shoes  545223467\n",
       "67501976            electronics.smartphone  557794415\n",
       "67501977  appliances.kitchen.refrigerators  531607492\n",
       "67501978            electronics.smartphone  579969851\n",
       "\n",
       "[42089564 rows x 2 columns]"
      ]
     },
     "execution_count": 159,
     "metadata": {},
     "output_type": "execute_result"
    }
   ],
   "source": [
    "df"
   ]
  },
  {
   "cell_type": "code",
   "execution_count": 191,
   "id": "59ddf2f3-9557-4c5f-8d73-633f1b69bc13",
   "metadata": {},
   "outputs": [],
   "source": [
    "df = df.drop_duplicates(subset='user_id')"
   ]
  },
  {
   "cell_type": "code",
   "execution_count": 261,
   "id": "4f65f646-17d8-4f5d-be55-1730a733841e",
   "metadata": {},
   "outputs": [
    {
     "data": {
      "text/plain": [
       "(2862935, 2)"
      ]
     },
     "execution_count": 261,
     "metadata": {},
     "output_type": "execute_result"
    }
   ],
   "source": [
    "df.shape"
   ]
  },
  {
   "cell_type": "code",
   "execution_count": 255,
   "id": "6dec07d9-c9ec-49ad-b5c3-8d06819c994e",
   "metadata": {},
   "outputs": [
    {
     "name": "stdin",
     "output_type": "stream",
     "text": [
      "Enter userid 520772685\n"
     ]
    }
   ],
   "source": [
    "user = int(input(\"Enter userid\"))"
   ]
  },
  {
   "cell_type": "code",
   "execution_count": 256,
   "id": "3938ffb1-5b73-4587-8c19-026eece3d167",
   "metadata": {},
   "outputs": [],
   "source": [
    "temp = df[df['user_id']==user]"
   ]
  },
  {
   "cell_type": "code",
   "execution_count": 257,
   "id": "86119410-7f58-475d-9090-20134d303455",
   "metadata": {},
   "outputs": [
    {
     "name": "stderr",
     "output_type": "stream",
     "text": [
      "C:\\Users\\ranu1\\AppData\\Local\\Temp\\ipykernel_11824\\1377005968.py:1: FutureWarning: Series.__getitem__ treating keys as positions is deprecated. In a future version, integer keys will always be treated as labels (consistent with DataFrame behavior). To access a value by position, use `ser.iloc[pos]`\n",
      "  ap = temp.iloc[0][0]\n"
     ]
    }
   ],
   "source": [
    "ap = temp.iloc[0][0]"
   ]
  },
  {
   "cell_type": "code",
   "execution_count": 258,
   "id": "7341bf91-744a-4b60-a352-07da5159281a",
   "metadata": {},
   "outputs": [
    {
     "data": {
      "text/plain": [
       "'computers.notebook'"
      ]
     },
     "execution_count": 258,
     "metadata": {},
     "output_type": "execute_result"
    }
   ],
   "source": [
    "ap"
   ]
  },
  {
   "cell_type": "code",
   "execution_count": 259,
   "id": "71c5555b-d7f3-4d00-add6-ac8565373426",
   "metadata": {},
   "outputs": [],
   "source": [
    "filtered_rules = rules_with_items[rules_with_items['antecedents'].apply(lambda x: ap in x)]"
   ]
  },
  {
   "cell_type": "code",
   "execution_count": 260,
   "id": "85925898-be87-4235-a88b-b1244bd3bb3a",
   "metadata": {},
   "outputs": [
    {
     "name": "stdout",
     "output_type": "stream",
     "text": [
      "frozenset({'accessories.bag'})\n"
     ]
    },
    {
     "name": "stderr",
     "output_type": "stream",
     "text": [
      "C:\\Users\\ranu1\\AppData\\Local\\Temp\\ipykernel_11824\\499648257.py:4: FutureWarning: Series.__getitem__ treating keys as positions is deprecated. In a future version, integer keys will always be treated as labels (consistent with DataFrame behavior). To access a value by position, use `ser.iloc[pos]`\n",
      "  a = str(filtered_rules.iloc[0][1])\n"
     ]
    }
   ],
   "source": [
    "if filtered_rules.shape[0] == 0:\n",
    "    print(\"No recommendation\")\n",
    "else:\n",
    "    a = str(filtered_rules.iloc[0][1])\n",
    "    print(a)"
   ]
  },
  {
   "cell_type": "code",
   "execution_count": null,
   "id": "da99fb97-3545-47d5-b30b-f50b21b2bd6e",
   "metadata": {},
   "outputs": [],
   "source": []
  },
  {
   "cell_type": "code",
   "execution_count": 268,
   "id": "090c7432-c07d-42d5-9b3b-5db66bf9a889",
   "metadata": {},
   "outputs": [],
   "source": [
    "df.to_csv(\"merafile.csv\",index=False)"
   ]
  },
  {
   "cell_type": "code",
   "execution_count": null,
   "id": "9ccbb023-31f0-4ce9-a4df-878826abc5ee",
   "metadata": {},
   "outputs": [],
   "source": []
  }
 ],
 "metadata": {
  "kernelspec": {
   "display_name": "Python 3 (ipykernel)",
   "language": "python",
   "name": "python3"
  },
  "language_info": {
   "codemirror_mode": {
    "name": "ipython",
    "version": 3
   },
   "file_extension": ".py",
   "mimetype": "text/x-python",
   "name": "python",
   "nbconvert_exporter": "python",
   "pygments_lexer": "ipython3",
   "version": "3.12.3"
  }
 },
 "nbformat": 4,
 "nbformat_minor": 5
}
